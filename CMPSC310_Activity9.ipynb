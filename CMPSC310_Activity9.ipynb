{
  "nbformat": 4,
  "nbformat_minor": 0,
  "metadata": {
    "colab": {
      "provenance": [],
      "include_colab_link": true
    },
    "kernelspec": {
      "name": "python3",
      "display_name": "Python 3"
    },
    "language_info": {
      "name": "python"
    }
  },
  "cells": [
    {
      "cell_type": "markdown",
      "metadata": {
        "id": "view-in-github",
        "colab_type": "text"
      },
      "source": [
        "<a href=\"https://colab.research.google.com/github/CMPSC-310-AI-Spring2023/activity09_image-manipulation-TitusSmith33/blob/main/CMPSC310_Activity9.ipynb\" target=\"_parent\"><img src=\"https://colab.research.google.com/assets/colab-badge.svg\" alt=\"Open In Colab\"/></a>"
      ]
    },
    {
      "cell_type": "markdown",
      "source": [
        "# **Activity 9: Image Manipulation **\n"
      ],
      "metadata": {
        "id": "vcrrIOhGjS0Z"
      }
    },
    {
      "cell_type": "markdown",
      "source": [
        "** Create a folder called:\n",
        "- bitwise\n",
        "- images\n",
        "\n",
        "** drop images \"box\", \"awards\", \"flint1\" into images"
      ],
      "metadata": {
        "id": "jCwXCyEphh9Q"
      }
    },
    {
      "cell_type": "code",
      "source": [
        "import numpy as np\n",
        "import cv2\n",
        "\n",
        "rect = np.zeros((300, 300), dtype=\"uint8\")\n",
        "cv2.rectangle(rect, (25, 25), (275, 275), 255, -1)\n",
        "cv2.imwrite(\"bitwise/Rectangle.png\", rect)\n",
        "\n",
        "circ = np.zeros((300, 300), dtype=\"uint8\")\n",
        "cv2.circle(circ, (150, 150), 150, 255, -1)\n",
        "cv2.imwrite(\"bitwise/Circle.png\", circ)\n",
        "\n",
        "bitwiseAnd = cv2.bitwise_and(rect, circ)\n",
        "cv2.imwrite(\"bitwise/AND.png\", bitwiseAnd)\n",
        "\n",
        "bitwiseOr = cv2.bitwise_or(rect, circ)\n",
        "cv2.imwrite(\"bitwise/OR.png\", bitwiseOr)\n",
        "\n",
        "bitwiseXOR = cv2.bitwise_xor(rect, circ)\n",
        "cv2.imwrite(\"bitwise/XOR.png\", bitwiseXOR)\n",
        "\n",
        "bitwiseNot = cv2.bitwise_not(rect, circ)\n",
        "cv2.imwrite(\"bitwise/NOT.png\", bitwiseNot)"
      ],
      "metadata": {
        "id": "c_fEN72BN3hK",
        "outputId": "6695c408-ac20-4ef2-a4b1-9fdcafe84919",
        "colab": {
          "base_uri": "https://localhost:8080/"
        }
      },
      "execution_count": 2,
      "outputs": [
        {
          "output_type": "execute_result",
          "data": {
            "text/plain": [
              "True"
            ]
          },
          "metadata": {},
          "execution_count": 2
        }
      ]
    },
    {
      "cell_type": "code",
      "source": [
        "from google.colab import drive\n",
        "drive.mount('/content/drive')"
      ],
      "metadata": {
        "colab": {
          "base_uri": "https://localhost:8080/"
        },
        "id": "ePLcMRlpc1Ia",
        "outputId": "0e3ccc66-68f7-4f64-eaa4-f0ca0ba7734e"
      },
      "execution_count": 3,
      "outputs": [
        {
          "output_type": "stream",
          "name": "stdout",
          "text": [
            "Mounted at /content/drive\n"
          ]
        }
      ]
    },
    {
      "cell_type": "code",
      "source": [
        "import numpy as np\n",
        "import cv2\n",
        "\n",
        "\n",
        "image = cv2.imread(\"images/flint1.jpg\")\n",
        "print(image.shape)\n",
        "\n",
        "mask = np.zeros(image.shape[:2], dtype=\"uint8\")\n",
        "(cX, cY) = (image.shape[1] // 2, image.shape[0] // 2)\n",
        "cv2.rectangle(mask, (cX - 75, cY - 75), (cX + 75, cY + 75), 255, -1)\n",
        "cv2.imwrite(\"bitwise/mask1.png\", mask)\n",
        "\n",
        "masked = cv2.bitwise_and(image, image, mask=mask)\n",
        "cv2.imwrite(\"bitwise/masked001.png\", masked)"
      ],
      "metadata": {
        "id": "COUxjCPoR3FX",
        "outputId": "d250bbe6-478b-4257-8731-536538a5a542",
        "colab": {
          "base_uri": "https://localhost:8080/"
        }
      },
      "execution_count": 9,
      "outputs": [
        {
          "output_type": "stream",
          "name": "stdout",
          "text": [
            "(467, 350, 3)\n"
          ]
        },
        {
          "output_type": "execute_result",
          "data": {
            "text/plain": [
              "True"
            ]
          },
          "metadata": {},
          "execution_count": 9
        }
      ]
    },
    {
      "cell_type": "code",
      "source": [
        "import numpy as np\n",
        "import cv2\n",
        "\n",
        "\n",
        "image = cv2.imread(\"images/flint1.jpg\")\n",
        "print(image.shape)\n",
        "\n",
        "mask = np.zeros(image.shape[:2], dtype=\"uint8\")\n",
        "cv2.circle(mask, (cX, cY), 100, 255, -1)\n",
        "cv2.imwrite(\"bitwise/mask1.png\", mask)\n",
        "\n",
        "masked = cv2.bitwise_and(image, image, mask=mask)\n",
        "cv2.imwrite(\"bitwise/masked2.png\", masked)\n",
        "\n",
        "gray = cv2.cvtColor(masked, cv2.COLOR_BGR2GRAY)\n",
        "cv2.imwrite(\"bitwise/gray.png\", gray)"
      ],
      "metadata": {
        "id": "lnixmonPg1G-",
        "outputId": "347f534b-68de-4f58-de33-49459e7bbfa4",
        "colab": {
          "base_uri": "https://localhost:8080/"
        }
      },
      "execution_count": 11,
      "outputs": [
        {
          "output_type": "stream",
          "name": "stdout",
          "text": [
            "(467, 350, 3)\n"
          ]
        },
        {
          "output_type": "execute_result",
          "data": {
            "text/plain": [
              "True"
            ]
          },
          "metadata": {},
          "execution_count": 11
        }
      ]
    },
    {
      "cell_type": "code",
      "source": [
        "import numpy as np\n",
        "import cv2\n",
        "\n",
        "image = cv2.imread(\"images/awards.png\")\n",
        "print(image.shape)\n",
        "\n",
        "mask = np.zeros(image.shape[:2], dtype=\"uint8\")\n",
        "(cX, cY) = (image.shape[1] // 10, image.shape[0] // 10)\n",
        "cv2.rectangle(mask, (cX + 200, cY + 200), (cX + 3000, cY + 1200), 255, -1)\n",
        "cv2.imwrite(\"bitwise/mask1.png\", mask)\n",
        "\n",
        "masked = cv2.bitwise_and(image, image, mask=mask)\n",
        "cv2.imwrite(\"bitwise/masked3.png\", masked)"
      ],
      "metadata": {
        "id": "kNhv3xPwiXM8",
        "outputId": "844610ac-ad58-4588-8c09-cd51fbc96966",
        "colab": {
          "base_uri": "https://localhost:8080/"
        }
      },
      "execution_count": 15,
      "outputs": [
        {
          "output_type": "stream",
          "name": "stdout",
          "text": [
            "(3024, 4032, 3)\n"
          ]
        },
        {
          "output_type": "execute_result",
          "data": {
            "text/plain": [
              "True"
            ]
          },
          "metadata": {},
          "execution_count": 15
        }
      ]
    }
  ]
}